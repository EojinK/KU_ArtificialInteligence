{
  "nbformat": 4,
  "nbformat_minor": 0,
  "metadata": {
    "colab": {
      "name": "2021 1학기 인공지능 기말 프로젝트.ipynb",
      "provenance": [],
      "collapsed_sections": [
        "F4xAs1b-VwkY",
        "PDDgHgZRJYD8",
        "2UuMO3y7Jdp6",
        "fe4unc_zRIWm",
        "f8y6x8iGUynp",
        "UQL3_ayVtgax",
        "dWBLCMQ_wITs",
        "l4ZLKzg9rsg_",
        "PXCIuTHvzBDT",
        "52NQOc-20PJI",
        "Z5WR6lPlDL6b",
        "i-Zw0N0UTg17"
      ]
    },
    "kernelspec": {
      "name": "python3",
      "display_name": "Python 3"
    },
    "language_info": {
      "name": "python"
    }
  },
  "cells": [
    {
      "cell_type": "markdown",
      "metadata": {
        "id": "F4xAs1b-VwkY"
      },
      "source": [
        "# 2021 1학기 인공지능 기말 프로젝트\n",
        "학번 & 이름: 2019320098 김어진"
      ]
    },
    {
      "cell_type": "markdown",
      "metadata": {
        "id": "PDDgHgZRJYD8"
      },
      "source": [
        "# 1. 실험 내용에 대한 전체 요약"
      ]
    },
    {
      "cell_type": "markdown",
      "metadata": {
        "id": "RwLOGH2NRGIT"
      },
      "source": [
        "  본 프로젝트에서는 Titanic data에 대해 Decision Tree, Logistic Regression, Multilayer Perception(MLP) 세 개의 분류 모델을 설계했고, 데이터에 대한 각 모델 성능을 비교했다. 모델을 설계하기 전 data를 train, validation, test set로 분류하는 과정을 거쳤다.\n",
        "\n",
        "\n",
        "* Decision Tree: \n",
        "default model에 대해서 성능을 실험한 후에 class_weight, max_features, max_depth 등의 parameter를 변경시켜 실험해 보았다. class_weight는 \"balanced\", max_features는 \"auto\" \"sqrt\" \"log2\", max_depth는 5 10의 값을 각각 시도해 보았다. 성능이 좋았던 parameter에 대해서는 동시에 시도해 보았다. 그 결과, max_features=\"log2\", max_depth=5로 설정한 모델에서 최상의 성능이 나왔다.\n",
        "* Logistic Regression: \n",
        "default model에 대해서 성능을 실험한 후에 solver, penalty, class_weight 등의 parameter를 변경시켜 실험해 보았다. solver는 'iblinear', 'newton-cg', 'sag', 'saga' penalty는 'none' class_weight는 'balanced'의 값을 각각 시도해 보았다. 성능이 좋았던 parameter에 대해서는 동시에 시도해 보았다. 그 결과, penalty='none'으로 설정한 모델에서 최상의 성능이 나왔다.\n",
        "* MLP: \n",
        "default model에 대해서 성능을 실험한 후에 activation, hidden_layer_size, solver 등의 parameter를 변경시켜 실험해 보았다. activation은 'identity' 'logistic' 'tanh', hidden_layer_size는 (200,) (100,2) (30,), solver는 'lbfgs' 'sgd'의 값을 각각 시도해 보았다. 성능이 좋았던 parameter에 대해서는 동시에 시도해 보았다. 그 결과, activation='logistic'으로 설정한 모델에서 최상의 성능이 나왔다.\n",
        "\n",
        "\n",
        "Decision Tree, Logistic Regression, MLP에서 각각 가장 좋은 성능을 보여 준 모델을 가지고 test data set을 훈련시켰고, 여기에도 cv를 적용해서 최종 모델의 성능을 평가했다. 그 결과, MLP모델 activation='logistic'이 가장 좋은 성능을 보여주었다. 따라서 Titanic 자료를 가장 잘 파악할 수 있는 모델은 MLP activation='logistic' 이다. \n",
        "\n"
      ]
    },
    {
      "cell_type": "markdown",
      "metadata": {
        "id": "2UuMO3y7Jdp6"
      },
      "source": [
        "# 2. Titanic data에 대한 explanatory data analysis"
      ]
    },
    {
      "cell_type": "code",
      "metadata": {
        "id": "HSfK8Fnc4vHx"
      },
      "source": [
        "# import statements\n",
        "import numpy as np\n",
        "import pandas as pd\n",
        "import seaborn as sns\n",
        "import matplotlib.pyplot as plt"
      ],
      "execution_count": null,
      "outputs": []
    },
    {
      "cell_type": "code",
      "metadata": {
        "id": "LMf07Ep3IZW-"
      },
      "source": [
        "# import data\n",
        "url = \"https://raw.githubusercontent.com/inikoreaackr/datasets/main/titanic.csv\"\n",
        "df = pd.read_csv(url)"
      ],
      "execution_count": null,
      "outputs": []
    },
    {
      "cell_type": "code",
      "metadata": {
        "colab": {
          "base_uri": "https://localhost:8080/",
          "height": 204
        },
        "id": "l5Oem0xCKswr",
        "outputId": "570b56c7-5588-48cb-f186-4446a4fe88da"
      },
      "source": [
        "# view data\n",
        "df.head()"
      ],
      "execution_count": null,
      "outputs": [
        {
          "output_type": "execute_result",
          "data": {
            "text/html": [
              "<div>\n",
              "<style scoped>\n",
              "    .dataframe tbody tr th:only-of-type {\n",
              "        vertical-align: middle;\n",
              "    }\n",
              "\n",
              "    .dataframe tbody tr th {\n",
              "        vertical-align: top;\n",
              "    }\n",
              "\n",
              "    .dataframe thead th {\n",
              "        text-align: right;\n",
              "    }\n",
              "</style>\n",
              "<table border=\"1\" class=\"dataframe\">\n",
              "  <thead>\n",
              "    <tr style=\"text-align: right;\">\n",
              "      <th></th>\n",
              "      <th>Survived</th>\n",
              "      <th>Pclass</th>\n",
              "      <th>Age</th>\n",
              "      <th>SibSp</th>\n",
              "      <th>Parch</th>\n",
              "      <th>Fare</th>\n",
              "      <th>Sex_female</th>\n",
              "      <th>Sex_male</th>\n",
              "    </tr>\n",
              "  </thead>\n",
              "  <tbody>\n",
              "    <tr>\n",
              "      <th>0</th>\n",
              "      <td>0.0</td>\n",
              "      <td>3</td>\n",
              "      <td>22.0</td>\n",
              "      <td>1</td>\n",
              "      <td>0</td>\n",
              "      <td>7.2500</td>\n",
              "      <td>0</td>\n",
              "      <td>1</td>\n",
              "    </tr>\n",
              "    <tr>\n",
              "      <th>1</th>\n",
              "      <td>1.0</td>\n",
              "      <td>1</td>\n",
              "      <td>38.0</td>\n",
              "      <td>1</td>\n",
              "      <td>0</td>\n",
              "      <td>71.2833</td>\n",
              "      <td>1</td>\n",
              "      <td>0</td>\n",
              "    </tr>\n",
              "    <tr>\n",
              "      <th>2</th>\n",
              "      <td>1.0</td>\n",
              "      <td>3</td>\n",
              "      <td>26.0</td>\n",
              "      <td>0</td>\n",
              "      <td>0</td>\n",
              "      <td>7.9250</td>\n",
              "      <td>1</td>\n",
              "      <td>0</td>\n",
              "    </tr>\n",
              "    <tr>\n",
              "      <th>3</th>\n",
              "      <td>1.0</td>\n",
              "      <td>1</td>\n",
              "      <td>35.0</td>\n",
              "      <td>1</td>\n",
              "      <td>0</td>\n",
              "      <td>53.1000</td>\n",
              "      <td>1</td>\n",
              "      <td>0</td>\n",
              "    </tr>\n",
              "    <tr>\n",
              "      <th>4</th>\n",
              "      <td>0.0</td>\n",
              "      <td>3</td>\n",
              "      <td>35.0</td>\n",
              "      <td>0</td>\n",
              "      <td>0</td>\n",
              "      <td>8.0500</td>\n",
              "      <td>0</td>\n",
              "      <td>1</td>\n",
              "    </tr>\n",
              "  </tbody>\n",
              "</table>\n",
              "</div>"
            ],
            "text/plain": [
              "   Survived  Pclass   Age  SibSp  Parch     Fare  Sex_female  Sex_male\n",
              "0       0.0       3  22.0      1      0   7.2500           0         1\n",
              "1       1.0       1  38.0      1      0  71.2833           1         0\n",
              "2       1.0       3  26.0      0      0   7.9250           1         0\n",
              "3       1.0       1  35.0      1      0  53.1000           1         0\n",
              "4       0.0       3  35.0      0      0   8.0500           0         1"
            ]
          },
          "metadata": {
            "tags": []
          },
          "execution_count": 21
        }
      ]
    },
    {
      "cell_type": "code",
      "metadata": {
        "colab": {
          "base_uri": "https://localhost:8080/"
        },
        "id": "L38OD4CSdeG2",
        "outputId": "2ad893b8-7595-4ea5-c967-0e72f2b0edd7"
      },
      "source": [
        "# counting data\n",
        "df.value_counts()"
      ],
      "execution_count": null,
      "outputs": [
        {
          "output_type": "execute_result",
          "data": {
            "text/plain": [
              "Survived  Pclass  Age   SibSp  Parch  Fare      Sex_female  Sex_male\n",
              "0.0       3       17.0  0      0      8.6625    0           1           3\n",
              "          2       25.0  0      0      13.0000   0           1           3\n",
              "                  23.0  0      0      13.0000   0           1           3\n",
              "          3       19.0  0      0      7.8958    0           1           3\n",
              "          2       30.0  0      0      13.0000   0           1           3\n",
              "                                                                       ..\n",
              "1.0       1       33.0  1      0      90.0000   1           0           1\n",
              "                                      53.1000   1           0           1\n",
              "                        0      0      86.5000   1           0           1\n",
              "                  32.0  0      0      76.2917   1           0           1\n",
              "0.0       1       2.0   1      2      151.5500  1           0           1\n",
              "Length: 674, dtype: int64"
            ]
          },
          "metadata": {
            "tags": []
          },
          "execution_count": 22
        }
      ]
    },
    {
      "cell_type": "code",
      "metadata": {
        "colab": {
          "base_uri": "https://localhost:8080/",
          "height": 297
        },
        "id": "9pUuGeTggf-U",
        "outputId": "5be8d5d3-8992-4081-d7a9-05594293c5b8"
      },
      "source": [
        "# data distribution\n",
        "df.describe()"
      ],
      "execution_count": null,
      "outputs": [
        {
          "output_type": "execute_result",
          "data": {
            "text/html": [
              "<div>\n",
              "<style scoped>\n",
              "    .dataframe tbody tr th:only-of-type {\n",
              "        vertical-align: middle;\n",
              "    }\n",
              "\n",
              "    .dataframe tbody tr th {\n",
              "        vertical-align: top;\n",
              "    }\n",
              "\n",
              "    .dataframe thead th {\n",
              "        text-align: right;\n",
              "    }\n",
              "</style>\n",
              "<table border=\"1\" class=\"dataframe\">\n",
              "  <thead>\n",
              "    <tr style=\"text-align: right;\">\n",
              "      <th></th>\n",
              "      <th>Survived</th>\n",
              "      <th>Pclass</th>\n",
              "      <th>Age</th>\n",
              "      <th>SibSp</th>\n",
              "      <th>Parch</th>\n",
              "      <th>Fare</th>\n",
              "      <th>Sex_female</th>\n",
              "      <th>Sex_male</th>\n",
              "    </tr>\n",
              "  </thead>\n",
              "  <tbody>\n",
              "    <tr>\n",
              "      <th>count</th>\n",
              "      <td>714.000000</td>\n",
              "      <td>714.000000</td>\n",
              "      <td>714.000000</td>\n",
              "      <td>714.000000</td>\n",
              "      <td>714.000000</td>\n",
              "      <td>714.000000</td>\n",
              "      <td>714.000000</td>\n",
              "      <td>714.000000</td>\n",
              "    </tr>\n",
              "    <tr>\n",
              "      <th>mean</th>\n",
              "      <td>0.406162</td>\n",
              "      <td>2.236695</td>\n",
              "      <td>29.699118</td>\n",
              "      <td>0.512605</td>\n",
              "      <td>0.431373</td>\n",
              "      <td>34.694514</td>\n",
              "      <td>0.365546</td>\n",
              "      <td>0.634454</td>\n",
              "    </tr>\n",
              "    <tr>\n",
              "      <th>std</th>\n",
              "      <td>0.491460</td>\n",
              "      <td>0.838250</td>\n",
              "      <td>14.526497</td>\n",
              "      <td>0.929783</td>\n",
              "      <td>0.853289</td>\n",
              "      <td>52.918930</td>\n",
              "      <td>0.481921</td>\n",
              "      <td>0.481921</td>\n",
              "    </tr>\n",
              "    <tr>\n",
              "      <th>min</th>\n",
              "      <td>0.000000</td>\n",
              "      <td>1.000000</td>\n",
              "      <td>0.420000</td>\n",
              "      <td>0.000000</td>\n",
              "      <td>0.000000</td>\n",
              "      <td>0.000000</td>\n",
              "      <td>0.000000</td>\n",
              "      <td>0.000000</td>\n",
              "    </tr>\n",
              "    <tr>\n",
              "      <th>25%</th>\n",
              "      <td>0.000000</td>\n",
              "      <td>1.000000</td>\n",
              "      <td>20.125000</td>\n",
              "      <td>0.000000</td>\n",
              "      <td>0.000000</td>\n",
              "      <td>8.050000</td>\n",
              "      <td>0.000000</td>\n",
              "      <td>0.000000</td>\n",
              "    </tr>\n",
              "    <tr>\n",
              "      <th>50%</th>\n",
              "      <td>0.000000</td>\n",
              "      <td>2.000000</td>\n",
              "      <td>28.000000</td>\n",
              "      <td>0.000000</td>\n",
              "      <td>0.000000</td>\n",
              "      <td>15.741700</td>\n",
              "      <td>0.000000</td>\n",
              "      <td>1.000000</td>\n",
              "    </tr>\n",
              "    <tr>\n",
              "      <th>75%</th>\n",
              "      <td>1.000000</td>\n",
              "      <td>3.000000</td>\n",
              "      <td>38.000000</td>\n",
              "      <td>1.000000</td>\n",
              "      <td>1.000000</td>\n",
              "      <td>33.375000</td>\n",
              "      <td>1.000000</td>\n",
              "      <td>1.000000</td>\n",
              "    </tr>\n",
              "    <tr>\n",
              "      <th>max</th>\n",
              "      <td>1.000000</td>\n",
              "      <td>3.000000</td>\n",
              "      <td>80.000000</td>\n",
              "      <td>5.000000</td>\n",
              "      <td>6.000000</td>\n",
              "      <td>512.329200</td>\n",
              "      <td>1.000000</td>\n",
              "      <td>1.000000</td>\n",
              "    </tr>\n",
              "  </tbody>\n",
              "</table>\n",
              "</div>"
            ],
            "text/plain": [
              "         Survived      Pclass         Age  ...        Fare  Sex_female    Sex_male\n",
              "count  714.000000  714.000000  714.000000  ...  714.000000  714.000000  714.000000\n",
              "mean     0.406162    2.236695   29.699118  ...   34.694514    0.365546    0.634454\n",
              "std      0.491460    0.838250   14.526497  ...   52.918930    0.481921    0.481921\n",
              "min      0.000000    1.000000    0.420000  ...    0.000000    0.000000    0.000000\n",
              "25%      0.000000    1.000000   20.125000  ...    8.050000    0.000000    0.000000\n",
              "50%      0.000000    2.000000   28.000000  ...   15.741700    0.000000    1.000000\n",
              "75%      1.000000    3.000000   38.000000  ...   33.375000    1.000000    1.000000\n",
              "max      1.000000    3.000000   80.000000  ...  512.329200    1.000000    1.000000\n",
              "\n",
              "[8 rows x 8 columns]"
            ]
          },
          "metadata": {
            "tags": []
          },
          "execution_count": 23
        }
      ]
    },
    {
      "cell_type": "code",
      "metadata": {
        "colab": {
          "base_uri": "https://localhost:8080/",
          "height": 387
        },
        "id": "ImXxPUxHaJon",
        "outputId": "dcb60f3d-9c61-4167-e2b7-b35c97a52911"
      },
      "source": [
        "# data visualization\n",
        "sns.displot(df)"
      ],
      "execution_count": null,
      "outputs": [
        {
          "output_type": "execute_result",
          "data": {
            "text/plain": [
              "<seaborn.axisgrid.FacetGrid at 0x7f7fb0079910>"
            ]
          },
          "metadata": {
            "tags": []
          },
          "execution_count": 117
        },
        {
          "output_type": "display_data",
          "data": {
            "image/png": "[encoded data removed]",
            "text/plain": [
              "<Figure size 453.625x360 with 1 Axes>"
            ]
          },
          "metadata": {
            "tags": [],
            "needs_background": "light"
          }
        }
      ]
    },
    {
      "cell_type": "code",
      "metadata": {
        "colab": {
          "base_uri": "https://localhost:8080/",
          "height": 387
        },
        "id": "XIX-Uox3agID",
        "outputId": "b9ae39fc-73cd-4bfb-8752-f2c3c842a6a6"
      },
      "source": [
        "# data visualization\n",
        "sns.displot(df, x=\"Age\")"
      ],
      "execution_count": null,
      "outputs": [
        {
          "output_type": "execute_result",
          "data": {
            "text/plain": [
              "<seaborn.axisgrid.FacetGrid at 0x7f7fa5ec5d10>"
            ]
          },
          "metadata": {
            "tags": []
          },
          "execution_count": 128
        },
        {
          "output_type": "display_data",
          "data": {
            "image/png": "[encoded data removed]",
            "text/plain": [
              "<Figure size 360x360 with 1 Axes>"
            ]
          },
          "metadata": {
            "tags": [],
            "needs_background": "light"
          }
        }
      ]
    },
    {
      "cell_type": "markdown",
      "metadata": {
        "id": "jyOwiQLtJkM9"
      },
      "source": [
        "\n",
        "\n",
        "*   각 feature와 그 의미: Survived(승객의 생존 여부. 1=생존, 0=사망), Pclass(좌석의 등급. 1=1등석, 2=2등석, 3=3등석), Age(승객의 나이), SibSp(함께 탑승한 형제 또는 배우자의 수), Parch(함께 탑승한 부모 또는 자녀의 수), Fare(티켓 요금), Sex_female(승객의 성별, 1=여성), Sex_male(승객의 성별, 1=남성)\n",
        "*   instance 개수: 674\n",
        "*   분류 목적: 본 데이터를 분류함으로 타이타닉 호에서 생존한 승객의 특징을 파악하여, 임의의 데이터에 대해 타이타닉 호에 탑승하면 살아남을 수 있을 지를 알아보고자 한다.  \n",
        "*   데이터 분포: 위의 df.describe() 및 그래프 참조\n",
        "\n"
      ]
    },
    {
      "cell_type": "markdown",
      "metadata": {
        "id": "fe4unc_zRIWm"
      },
      "source": [
        "# 3. 실험 설계 및 방법"
      ]
    },
    {
      "cell_type": "markdown",
      "metadata": {
        "id": "5VRGhAlsSbts"
      },
      "source": [
        "* 분석에 사용할 전처리 과정을 거친 데이터 셋을 선택하고 분석한다. 본 프로젝트에서는 Titanic data를 선정했다.\n",
        "* train을 위해 데이터 셋을 분리한다. (train-test split)\n",
        "* Decision Tree에 대해 parameter를 조작하지 않은 default model을 생성하고 훈련한다. 5-fold cross validation을 통해 default model의 성능을 검증한다.\n",
        "* Decision Tree에 대해 class_weight, criterion, max_features, max_depth 등의 parameter를 조작해서 model을 생성하고 훈련한다. 5-fold cross validation을 통해 이 model들의 성능을 검증하고, 가장 성능이 좋은 모델을 선정한다. \n",
        "* Logistic Regression에 대해 parameter를 조작하지 않은 default model을 생성하고 훈련한다. 5-fold cross validation을 통해 default model의 성능을 검증한다.\n",
        "* Logistic Regression에 대해 ~등의 parameter를 조작해서 model을 생성하고 훈련한다. 5-fold cross validation을 통해 이 model들의 성능을 검증하고, 가장 성능이 좋은 모델을 선정한다\n",
        "* Multilayer Perception(MLP)에 대해 parameter를 조작하지 않은 default model을 생성하고 훈련한다. 5-fold cross validation을 통해 default model의 성능을 검증한다.\n",
        "* Multilayer Perception(MLP)에 대해 ~등의 parameter를 조작해서 model을 생성하고 훈련한다. 5-fold cross validation을 통해 이 model들의 성능을 검증하고, 가장 성능이 좋은 모델을 선정한다\n",
        "* Decision Tree, Logistic Regression, Multilayer Perception(MLP)에 대해 선정한 각각의 최종 모델의 성능을 5-fold cross validation을 통해 평가한다. 단, 이 때에는 test set을 사용한다.\n",
        "* 모든 분류 모델의 test 성능 평가를 비교하고 분석한다.\n"
      ]
    },
    {
      "cell_type": "markdown",
      "metadata": {
        "id": "h3y02NQHTJe4"
      },
      "source": [
        "# 4. 실험 과정 (비교를 위해 시도한 trial 및 error)"
      ]
    },
    {
      "cell_type": "markdown",
      "metadata": {
        "id": "f8y6x8iGUynp"
      },
      "source": [
        "## a. data를 train, validation, test set로 분리한다. (data split)"
      ]
    },
    {
      "cell_type": "code",
      "metadata": {
        "id": "wI3lpWOP_LE4"
      },
      "source": [
        "# split data to X and y\n",
        "y = df[[\"Survived\"]]\n",
        "X = df.drop([\"Survived\"], axis=1)"
      ],
      "execution_count": null,
      "outputs": []
    },
    {
      "cell_type": "code",
      "metadata": {
        "id": "IQtdtIZi_cTC",
        "colab": {
          "base_uri": "https://localhost:8080/"
        },
        "outputId": "e2c5048d-3d6e-44be-b1ce-d78a336a9589"
      },
      "source": [
        "# check\n",
        "X.columns"
      ],
      "execution_count": null,
      "outputs": [
        {
          "output_type": "execute_result",
          "data": {
            "text/plain": [
              "Index(['Pclass', 'Age', 'SibSp', 'Parch', 'Fare', 'Sex_female', 'Sex_male'], dtype='object')"
            ]
          },
          "metadata": {
            "tags": []
          },
          "execution_count": 25
        }
      ]
    },
    {
      "cell_type": "code",
      "metadata": {
        "id": "vdEP1211-aH0"
      },
      "source": [
        "# split train, validation and test data\n",
        "from sklearn.model_selection import train_test_split\n",
        "\n",
        "X_train, X_test, y_train, y_test = train_test_split(X, y, test_size=0.2, random_state=42)\n",
        "X_train, X_val, y_train, y_val = train_test_split(X_train, y_train, test_size=0.25, random_state=42) #0.8 * 0.25 = 0.2"
      ],
      "execution_count": null,
      "outputs": []
    },
    {
      "cell_type": "code",
      "metadata": {
        "id": "VmOEwXXX_sBh",
        "colab": {
          "base_uri": "https://localhost:8080/"
        },
        "outputId": "7da7bcae-ceb1-4bdb-8e94-b435086fb002"
      },
      "source": [
        "# check dimension\n",
        "X_train.shape"
      ],
      "execution_count": null,
      "outputs": [
        {
          "output_type": "execute_result",
          "data": {
            "text/plain": [
              "(428, 7)"
            ]
          },
          "metadata": {
            "tags": []
          },
          "execution_count": 27
        }
      ]
    },
    {
      "cell_type": "markdown",
      "metadata": {
        "id": "85FTyRQYkQ71"
      },
      "source": [
        "## b. Decision Tree"
      ]
    },
    {
      "cell_type": "markdown",
      "metadata": {
        "id": "UQL3_ayVtgax"
      },
      "source": [
        "### Decision Tree default model\n",
        "parameter를 조작하지 않은 default model을 생성하고 훈련한다. 5-fold cross validation을 통해 default model의 성능을 검증한다."
      ]
    },
    {
      "cell_type": "code",
      "metadata": {
        "colab": {
          "base_uri": "https://localhost:8080/"
        },
        "id": "_j96Zc8ltga5",
        "outputId": "4575ab41-de6f-432b-e007-2ba67a7101d4"
      },
      "source": [
        "# build and train decision tree\n",
        "# https://scikit-learn.org/stable/modules/generated/sklearn.tree.DecisionTreeClassifier.html\n",
        "from sklearn.tree import DecisionTreeClassifier\n",
        "\n",
        "decTree = DecisionTreeClassifier()\n",
        "decTree.fit(X_train, y_train)"
      ],
      "execution_count": null,
      "outputs": [
        {
          "output_type": "execute_result",
          "data": {
            "text/plain": [
              "DecisionTreeClassifier(ccp_alpha=0.0, class_weight=None, criterion='gini',\n",
              "                       max_depth=None, max_features=None, max_leaf_nodes=None,\n",
              "                       min_impurity_decrease=0.0, min_impurity_split=None,\n",
              "                       min_samples_leaf=1, min_samples_split=2,\n",
              "                       min_weight_fraction_leaf=0.0, presort='deprecated',\n",
              "                       random_state=None, splitter='best')"
            ]
          },
          "metadata": {
            "tags": []
          },
          "execution_count": 28
        }
      ]
    },
    {
      "cell_type": "code",
      "metadata": {
        "colab": {
          "base_uri": "https://localhost:8080/"
        },
        "id": "yuJ-tx1isbVs",
        "outputId": "ce81c3be-d264-4e06-fb87-144eec1088e4"
      },
      "source": [
        "# 5-fold cross validation\n",
        "from sklearn.model_selection import cross_validate\n",
        "\n",
        "cv_results = cross_validate(decTree, X_train, y_train, cv=5)\n",
        "np.mean(cv_results['test_score'])"
      ],
      "execution_count": null,
      "outputs": [
        {
          "output_type": "execute_result",
          "data": {
            "text/plain": [
              "0.7569630642954857"
            ]
          },
          "metadata": {
            "tags": []
          },
          "execution_count": 29
        }
      ]
    },
    {
      "cell_type": "markdown",
      "metadata": {
        "id": "dWBLCMQ_wITs"
      },
      "source": [
        "### Decision Tree model trial and error\n",
        "\n",
        "trial and error 과정에서는 parameter 설정에 변화를 주어 모델을 훈련했다. Decision Tree의 경우, class_weight, max_features, max_depth 등의 parameter를 변경시켜 실험해 보았다. 여기에는 5-fold cross validation을 통해 성능을 검증하는 과정까지 포함되어 있다. "
      ]
    },
    {
      "cell_type": "markdown",
      "metadata": {
        "id": "J-07kHBewITs"
      },
      "source": [
        "- class_weight\n",
        "> {class_label:weight} 형식의 class관련 가중치이다. default 값은 None이며, 이때는 모든 클래스에 가중치가 1로 지정된다. 여기에서는 balanced 모드로 변형해 실험했는데, balanced 모드는 y 값을 사용하여 입력 데이터의 class frequency에 반비례하는 가중치를 n_samples / (n_classes * np.bincount(y)) 형식으로 자동으로 조정한다. \n",
        "\n",
        "\n",
        "\n"
      ]
    },
    {
      "cell_type": "code",
      "metadata": {
        "colab": {
          "base_uri": "https://localhost:8080/"
        },
        "id": "RQTVB4c_8_eC",
        "outputId": "f8e4b93b-bf96-4035-ea82-a81c74041314"
      },
      "source": [
        "# class_weight=\"balanced\"\n",
        "from sklearn.tree import DecisionTreeClassifier\n",
        "from sklearn.model_selection import cross_validate\n",
        "\n",
        "decTree = DecisionTreeClassifier(class_weight=\"balanced\")\n",
        "decTree.fit(X_train, y_train)\n",
        "cv_results = cross_validate(decTree, X_train, y_train, cv=5)\n",
        "np.mean(cv_results['test_score'])"
      ],
      "execution_count": null,
      "outputs": [
        {
          "output_type": "execute_result",
          "data": {
            "text/plain": [
              "0.7452257181942545"
            ]
          },
          "metadata": {
            "tags": []
          },
          "execution_count": 30
        }
      ]
    },
    {
      "cell_type": "markdown",
      "metadata": {
        "id": "KuEmBVxaAoAx"
      },
      "source": [
        "- max_features\n",
        "> 최적의 분할을 찾을 때 고려해야 할 feature의 수를 의미한다. int, float, \"auto\", \"sqrt\", \"log2\", None의 값이 쓰일 수 있다. 여기에서는 \"auto\", \"sqrt\", \"log2\", None의 경우를 실험했다. \n",
        "\n",
        "\n",
        "\n"
      ]
    },
    {
      "cell_type": "code",
      "metadata": {
        "colab": {
          "base_uri": "https://localhost:8080/"
        },
        "id": "DLCh6ghRAm7y",
        "outputId": "57f8af49-6488-4048-f2c2-7a4954d6a002"
      },
      "source": [
        "# max_features = \"auto\"\n",
        "from sklearn.tree import DecisionTreeClassifier\n",
        "from sklearn.model_selection import cross_validate\n",
        "\n",
        "decTree = DecisionTreeClassifier(max_features = \"auto\")\n",
        "decTree.fit(X_train, y_train)\n",
        "cv_results = cross_validate(decTree, X_train, y_train, cv=5)\n",
        "np.mean(cv_results['test_score'])"
      ],
      "execution_count": null,
      "outputs": [
        {
          "output_type": "execute_result",
          "data": {
            "text/plain": [
              "0.780218878248974"
            ]
          },
          "metadata": {
            "tags": []
          },
          "execution_count": 31
        }
      ]
    },
    {
      "cell_type": "code",
      "metadata": {
        "colab": {
          "base_uri": "https://localhost:8080/"
        },
        "id": "wNOvw9Q98-dS",
        "outputId": "3cd28e1d-3d1b-4254-d0e8-c366542199ff"
      },
      "source": [
        "# max_features = \"sqrt\"\n",
        "from sklearn.tree import DecisionTreeClassifier\n",
        "from sklearn.model_selection import cross_validate\n",
        "\n",
        "decTree = DecisionTreeClassifier(max_features = \"sqrt\")\n",
        "decTree.fit(X_train, y_train)\n",
        "cv_results = cross_validate(decTree, X_train, y_train, cv=5)\n",
        "np.mean(cv_results['test_score'])"
      ],
      "execution_count": null,
      "outputs": [
        {
          "output_type": "execute_result",
          "data": {
            "text/plain": [
              "0.7637756497948016"
            ]
          },
          "metadata": {
            "tags": []
          },
          "execution_count": 32
        }
      ]
    },
    {
      "cell_type": "code",
      "metadata": {
        "colab": {
          "base_uri": "https://localhost:8080/"
        },
        "id": "QAPOTGLu8-nM",
        "outputId": "fc276a86-06db-49d8-d90e-02f2dda7cf9e"
      },
      "source": [
        "# max_features = \"log2\"\n",
        "from sklearn.tree import DecisionTreeClassifier\n",
        "from sklearn.model_selection import cross_validate\n",
        "\n",
        "decTree = DecisionTreeClassifier(max_features = \"log2\")\n",
        "decTree.fit(X_train, y_train)\n",
        "cv_results = cross_validate(decTree, X_train, y_train, cv=5)\n",
        "np.mean(cv_results['test_score'])"
      ],
      "execution_count": null,
      "outputs": [
        {
          "output_type": "execute_result",
          "data": {
            "text/plain": [
              "0.7873324213406292"
            ]
          },
          "metadata": {
            "tags": []
          },
          "execution_count": 33
        }
      ]
    },
    {
      "cell_type": "code",
      "metadata": {
        "colab": {
          "base_uri": "https://localhost:8080/"
        },
        "id": "bOA0dXBd8-wK",
        "outputId": "4512a24b-f78d-43b0-88c7-bc51ff5aaa37"
      },
      "source": [
        "# max_features = None\n",
        "from sklearn.tree import DecisionTreeClassifier\n",
        "from sklearn.model_selection import cross_validate\n",
        "\n",
        "decTree = DecisionTreeClassifier(max_features = None)\n",
        "decTree.fit(X_train, y_train)\n",
        "cv_results = cross_validate(decTree, X_train, y_train, cv=5)\n",
        "np.mean(cv_results['test_score'])"
      ],
      "execution_count": null,
      "outputs": [
        {
          "output_type": "execute_result",
          "data": {
            "text/plain": [
              "0.7592612859097128"
            ]
          },
          "metadata": {
            "tags": []
          },
          "execution_count": 34
        }
      ]
    },
    {
      "cell_type": "markdown",
      "metadata": {
        "id": "pDrG-RUX9efD"
      },
      "source": [
        "* max_depth\n",
        "\n",
        "> tree의 최대 깊이를 나타낸다. None이면, 모든 leaf가 pure일 때까지 혹은 min_sample_split 보다 적게 포함될 때까지 노드가 확장된다. 여기에서는 5, 10 등의 적당한 int를 대입해 보았다. max_depth가 5일 때 성능이 준수했다.\n"
      ]
    },
    {
      "cell_type": "code",
      "metadata": {
        "colab": {
          "base_uri": "https://localhost:8080/"
        },
        "id": "eS1lkGRW-Euk",
        "outputId": "539f55fb-2997-4c9a-88f1-11854331af68"
      },
      "source": [
        "# max_depth=5\n",
        "from sklearn.tree import DecisionTreeClassifier\n",
        "from sklearn.model_selection import cross_validate\n",
        "\n",
        "decTree = DecisionTreeClassifier(max_depth=5)\n",
        "decTree.fit(X_train, y_train)\n",
        "cv_results = cross_validate(decTree, X_train, y_train, cv=5)\n",
        "np.mean(cv_results['test_score'])"
      ],
      "execution_count": null,
      "outputs": [
        {
          "output_type": "execute_result",
          "data": {
            "text/plain": [
              "0.7827633378932969"
            ]
          },
          "metadata": {
            "tags": []
          },
          "execution_count": 135
        }
      ]
    },
    {
      "cell_type": "code",
      "metadata": {
        "colab": {
          "base_uri": "https://localhost:8080/"
        },
        "id": "x7DUtCfn-E42",
        "outputId": "7e2a5b5b-dede-4630-9e7b-a70b96e75a58"
      },
      "source": [
        "# max_depth=10\n",
        "from sklearn.tree import DecisionTreeClassifier\n",
        "from sklearn.model_selection import cross_validate\n",
        "\n",
        "decTree = DecisionTreeClassifier(max_depth=10)\n",
        "decTree.fit(X_train, y_train)\n",
        "cv_results = cross_validate(decTree, X_train, y_train, cv=5)\n",
        "np.mean(cv_results['test_score'])"
      ],
      "execution_count": null,
      "outputs": [
        {
          "output_type": "execute_result",
          "data": {
            "text/plain": [
              "0.780328317373461"
            ]
          },
          "metadata": {
            "tags": []
          },
          "execution_count": 131
        }
      ]
    },
    {
      "cell_type": "markdown",
      "metadata": {
        "id": "AVqfRpfmwITt"
      },
      "source": [
        "- mixture\n",
        "\n",
        "> 단일 parameter를 변경해 보았을 때 성능이 좋아졌던 결과 위주로 parameter를 동시에 변경해 보았다. 그 결과, max_features를 \"log2\"로, max_depth를 5로 설정한 모델에서 최상의 성능이 나왔다. \n",
        "\n"
      ]
    },
    {
      "cell_type": "code",
      "metadata": {
        "colab": {
          "base_uri": "https://localhost:8080/"
        },
        "id": "NersbUxtwITt",
        "outputId": "2d7207ba-b7d1-47ae-ca76-93dae6062d9f"
      },
      "source": [
        "# (BEST) max_features=\"log2\", max_depth=5\n",
        "from sklearn.tree import DecisionTreeClassifier\n",
        "from sklearn.model_selection import cross_validate\n",
        "\n",
        "decTree = DecisionTreeClassifier(max_features = \"log2\", max_depth=5)\n",
        "decTree.fit(X_train, y_train)\n",
        "cv_results = cross_validate(decTree, X_train, y_train, cv=5)\n",
        "np.mean(cv_results['test_score'])"
      ],
      "execution_count": null,
      "outputs": [
        {
          "output_type": "execute_result",
          "data": {
            "text/plain": [
              "0.81077975376197"
            ]
          },
          "metadata": {
            "tags": []
          },
          "execution_count": 139
        }
      ]
    },
    {
      "cell_type": "markdown",
      "metadata": {
        "id": "hpXl2SW45Sea"
      },
      "source": [
        "### Decision tree final model\n",
        "실험 결과, max_features=\"log2\", max_depth=5로 설정한 모델에서 최상의 성능이 나왔다."
      ]
    },
    {
      "cell_type": "code",
      "metadata": {
        "colab": {
          "base_uri": "https://localhost:8080/"
        },
        "id": "ONwLHegAcQBn",
        "outputId": "2d7207ba-b7d1-47ae-ca76-93dae6062d9f"
      },
      "source": [
        "# (BEST) max_features=\"log2\", max_depth=5\n",
        "from sklearn.tree import DecisionTreeClassifier\n",
        "from sklearn.model_selection import cross_validate\n",
        "\n",
        "decTree = DecisionTreeClassifier(max_features = \"log2\", max_depth=5)\n",
        "decTree.fit(X_train, y_train)\n",
        "cv_results = cross_validate(decTree, X_train, y_train, cv=5)\n",
        "np.mean(cv_results['test_score'])"
      ],
      "execution_count": null,
      "outputs": [
        {
          "output_type": "execute_result",
          "data": {
            "text/plain": [
              "0.81077975376197"
            ]
          },
          "metadata": {
            "tags": []
          },
          "execution_count": 139
        }
      ]
    },
    {
      "cell_type": "markdown",
      "metadata": {
        "id": "Flmj6kiDXvWv"
      },
      "source": [
        "## c. Logistic Regression"
      ]
    },
    {
      "cell_type": "markdown",
      "metadata": {
        "id": "l4ZLKzg9rsg_"
      },
      "source": [
        "### Logistic Regression default model\n",
        "\n",
        "parameter를 조작하지 않은 default model을 생성하고 훈련한다. 5-fold cross validation을 통해 default model의 성능을 검증한다."
      ]
    },
    {
      "cell_type": "code",
      "metadata": {
        "id": "cIz1vSjgfzcG",
        "colab": {
          "base_uri": "https://localhost:8080/"
        },
        "outputId": "e774c3b7-d243-44e3-fc4c-7428f9845ee3"
      },
      "source": [
        "# build and train logistic regression model\n",
        "# https://scikit-learn.org/stable/modules/generated/sklearn.linear_model.LogisticRegression.html\n",
        "from sklearn.linear_model import LogisticRegression\n",
        "\n",
        "lr = LogisticRegression(max_iter=10000, random_state=42)\n",
        "lr.fit(X_train, y_train.values.ravel())\n"
      ],
      "execution_count": null,
      "outputs": [
        {
          "output_type": "execute_result",
          "data": {
            "text/plain": [
              "LogisticRegression(C=1.0, class_weight=None, dual=False, fit_intercept=True,\n",
              "                   intercept_scaling=1, l1_ratio=None, max_iter=10000,\n",
              "                   multi_class='auto', n_jobs=None, penalty='l2',\n",
              "                   random_state=42, solver='lbfgs', tol=0.0001, verbose=0,\n",
              "                   warm_start=False)"
            ]
          },
          "metadata": {
            "tags": []
          },
          "execution_count": 46
        }
      ]
    },
    {
      "cell_type": "code",
      "metadata": {
        "colab": {
          "base_uri": "https://localhost:8080/"
        },
        "id": "ETXxqCmGxBT4",
        "outputId": "8c3ced74-a76b-4312-c044-90d33613f5cb"
      },
      "source": [
        "# 5-fold cross validation\n",
        "from sklearn.model_selection import cross_validate\n",
        "\n",
        "cv_results = cross_validate(lr, X_train, y_train.values.ravel(), cv=5)\n",
        "np.mean(cv_results['test_score'])"
      ],
      "execution_count": null,
      "outputs": [
        {
          "output_type": "execute_result",
          "data": {
            "text/plain": [
              "0.8061012311901505"
            ]
          },
          "metadata": {
            "tags": []
          },
          "execution_count": 47
        }
      ]
    },
    {
      "cell_type": "markdown",
      "metadata": {
        "id": "PXCIuTHvzBDT"
      },
      "source": [
        "### Logistic Regression model trial and error\n",
        "\n",
        "trial and error 과정에서는 parameter 설정에 변화를 주어 모델을 훈련했다. Logistic Regression의 경우, solver, penalty, class_weight 등의 parameter를 변경시켜 실험해 보았다. 여기에는 5-fold cross validation을 통해 성능을 검증하는 과정까지 포함되어 있다. 실험 결과, penalty를 none으로 설정한 모델의 성능이 가장 좋은 성능을 보여주었다. "
      ]
    },
    {
      "cell_type": "markdown",
      "metadata": {
        "id": "68k2c9ujzBDV"
      },
      "source": [
        "- solver\n",
        "> solver는 최적화 문제에 사용할 알고리즘을 선택하는 parameter이다. 작은 data set의 경우 'liblinear'가 좋은 선택이고 'sag'와 'saga'는 큰 data set에서 좋다. solver를 liblinear, newton-cg, sag, saga 순서로 변경하며 실험해 본 결과, newton-cg에서 가장 좋은 성능이 측정되었다. "
      ]
    },
    {
      "cell_type": "code",
      "metadata": {
        "colab": {
          "base_uri": "https://localhost:8080/"
        },
        "id": "S2I5RdLfFt7k",
        "outputId": "578e9c73-f05b-4dfc-9389-e979e932f6a2"
      },
      "source": [
        "# solver='liblinear'\n",
        "from sklearn.linear_model import LogisticRegression\n",
        "from sklearn.model_selection import cross_validate\n",
        "\n",
        "lr = LogisticRegression(max_iter=10000, random_state=42, solver='liblinear')\n",
        "lr.fit(X_train, y_train.values.ravel())\n",
        "cv_results = cross_validate(lr, X_train, y_train.values.ravel(), cv=5)\n",
        "np.mean(cv_results['test_score'])"
      ],
      "execution_count": null,
      "outputs": [
        {
          "output_type": "execute_result",
          "data": {
            "text/plain": [
              "0.7990697674418604"
            ]
          },
          "metadata": {
            "tags": []
          },
          "execution_count": 48
        }
      ]
    },
    {
      "cell_type": "code",
      "metadata": {
        "colab": {
          "base_uri": "https://localhost:8080/"
        },
        "id": "0ykrIluiuHYu",
        "outputId": "2aef63ff-3f8e-41b1-a7b2-86a6977b6ebf"
      },
      "source": [
        "# solver='newton-cg'\n",
        "from sklearn.linear_model import LogisticRegression\n",
        "from sklearn.model_selection import cross_validate\n",
        "\n",
        "lr = LogisticRegression(max_iter=10000, random_state=42, solver='newton-cg')\n",
        "lr.fit(X_train, y_train.values.ravel())\n",
        "cv_results = cross_validate(lr, X_train, y_train.values.ravel(), cv=5)\n",
        "np.mean(cv_results['test_score'])"
      ],
      "execution_count": null,
      "outputs": [
        {
          "output_type": "execute_result",
          "data": {
            "text/plain": [
              "0.8061012311901505"
            ]
          },
          "metadata": {
            "tags": []
          },
          "execution_count": 49
        }
      ]
    },
    {
      "cell_type": "code",
      "metadata": {
        "colab": {
          "base_uri": "https://localhost:8080/"
        },
        "id": "IdhsNn4WuVr-",
        "outputId": "a9e62530-a91a-481a-f884-4dd29e788735"
      },
      "source": [
        "# solver='sag'\n",
        "from sklearn.linear_model import LogisticRegression\n",
        "from sklearn.model_selection import cross_validate\n",
        "\n",
        "lr = LogisticRegression(max_iter=10000, random_state=42, solver='sag')\n",
        "lr.fit(X_train, y_train.values.ravel())\n",
        "cv_results = cross_validate(lr, X_train, y_train.values.ravel(), cv=5)\n",
        "np.mean(cv_results['test_score'])"
      ],
      "execution_count": null,
      "outputs": [
        {
          "output_type": "execute_result",
          "data": {
            "text/plain": [
              "0.7826812585499315"
            ]
          },
          "metadata": {
            "tags": []
          },
          "execution_count": 50
        }
      ]
    },
    {
      "cell_type": "code",
      "metadata": {
        "colab": {
          "base_uri": "https://localhost:8080/"
        },
        "id": "dVVLMceBuYnD",
        "outputId": "fdaa8c8b-7b63-4ce0-aef6-933ae47f7c92"
      },
      "source": [
        "# solver='saga'\n",
        "from sklearn.linear_model import LogisticRegression\n",
        "from sklearn.model_selection import cross_validate\n",
        "\n",
        "lr = LogisticRegression(max_iter=10000, random_state=42, solver='saga')\n",
        "lr.fit(X_train, y_train.values.ravel())\n",
        "cv_results = cross_validate(lr, X_train, y_train.values.ravel(), cv=5)\n",
        "np.mean(cv_results['test_score'])"
      ],
      "execution_count": null,
      "outputs": [
        {
          "output_type": "execute_result",
          "data": {
            "text/plain": [
              "0.780328317373461"
            ]
          },
          "metadata": {
            "tags": []
          },
          "execution_count": 51
        }
      ]
    },
    {
      "cell_type": "markdown",
      "metadata": {
        "id": "ibvHETPdzBDU"
      },
      "source": [
        "- penalty\n",
        "\n",
        "\n",
        "> penalty는 penalization에 사용되는 표준을 지정한다. 'newton-cg', 'sag', 'lbfgs' solver는 l2만 지원한다. 'elasticnet'은 오직 'saga' solver에서만 지원한다. none일 경우, regularization은 적용되지 않는다. penalty는 none 모드만 실험했는데, penalty를 none으로 했을 때 좋은 성능이 도출되었다.  \n",
        "\n"
      ]
    },
    {
      "cell_type": "code",
      "metadata": {
        "colab": {
          "base_uri": "https://localhost:8080/"
        },
        "id": "Hc9FVBbezBDU",
        "outputId": "16458512-ddca-4b81-a452-575d7b13ade1"
      },
      "source": [
        "# (BEST) penalty='none'\n",
        "from sklearn.linear_model import LogisticRegression\n",
        "from sklearn.model_selection import cross_validate\n",
        "\n",
        "lr = LogisticRegression(max_iter=10000, random_state=42, penalty='none')\n",
        "lr.fit(X_train, y_train.values.ravel())\n",
        "cv_results = cross_validate(lr, X_train, y_train.values.ravel(), cv=5)\n",
        "np.mean(cv_results['test_score'])"
      ],
      "execution_count": null,
      "outputs": [
        {
          "output_type": "execute_result",
          "data": {
            "text/plain": [
              "0.8084541723666211"
            ]
          },
          "metadata": {
            "tags": []
          },
          "execution_count": 52
        }
      ]
    },
    {
      "cell_type": "markdown",
      "metadata": {
        "id": "Ur1p4ndqFvmT"
      },
      "source": [
        "- class_weight\n",
        "> {class_label:weight} 형식의 class관련 가중치이다. default 값은 None이며, 이때는 모든 클래스에 가중치가 1로 지정된다. 여기에서는 balanced 모드로 변형해 실험했는데, balanced 모드는 y 값을 사용하여 입력 데이터의 class frequency에 반비례하는 가중치를 n_samples / (n_classes * np.bincount(y)) 형식으로 자동으로 조정한다. "
      ]
    },
    {
      "cell_type": "code",
      "metadata": {
        "colab": {
          "base_uri": "https://localhost:8080/"
        },
        "id": "qzwf0gl7zBDV",
        "outputId": "8569b125-85b2-40cd-f83b-cf494030d8da"
      },
      "source": [
        "# class_weight='balanced'\n",
        "from sklearn.linear_model import LogisticRegression\n",
        "from sklearn.model_selection import cross_validate\n",
        "\n",
        "lr = LogisticRegression(max_iter=10000, random_state=42, class_weight='balanced')\n",
        "lr.fit(X_train, y_train.values.ravel())\n",
        "cv_results = cross_validate(lr, X_train, y_train.values.ravel(), cv=5)\n",
        "np.mean(cv_results['test_score'])"
      ],
      "execution_count": null,
      "outputs": [
        {
          "output_type": "execute_result",
          "data": {
            "text/plain": [
              "0.8038030095759234"
            ]
          },
          "metadata": {
            "tags": []
          },
          "execution_count": 53
        }
      ]
    },
    {
      "cell_type": "markdown",
      "metadata": {
        "id": "V9Ya-Ha0BFd2"
      },
      "source": [
        "- mixture\n",
        "\n",
        "> 단일 parameter를 변경해 보았을 때 성능이 좋아졌던 결과 위주로 parameter를 동시에 변경해 보았다. 그러나 단일 parameter를 변경해 보았을 때보다 오히려 성능이 떨어지는 결과를 얻었다. "
      ]
    },
    {
      "cell_type": "code",
      "metadata": {
        "colab": {
          "base_uri": "https://localhost:8080/"
        },
        "id": "UZfUpcMZBM-z",
        "outputId": "346b817b-d3af-4e7d-a0f9-0af67e0b47d6"
      },
      "source": [
        "# solver='newton-cg', class_weight='balanced', penalty='none'\n",
        "from sklearn.linear_model import LogisticRegression\n",
        "from sklearn.model_selection import cross_validate\n",
        "\n",
        "lr = LogisticRegression(max_iter=10000, random_state=42, solver='newton-cg', class_weight='balanced', penalty='none')\n",
        "lr.fit(X_train, y_train.values.ravel())\n",
        "cv_results = cross_validate(lr, X_train, y_train.values.ravel(), cv=5)\n",
        "np.mean(cv_results['test_score'])"
      ],
      "execution_count": null,
      "outputs": [
        {
          "output_type": "execute_result",
          "data": {
            "text/plain": [
              "0.8014500683994529"
            ]
          },
          "metadata": {
            "tags": []
          },
          "execution_count": 140
        }
      ]
    },
    {
      "cell_type": "markdown",
      "metadata": {
        "id": "2YGPB8M1oCPU"
      },
      "source": [
        "### Logistic Regression final model\n",
        "실험 결과, penalty='none'으로 설정한 모델에서 최상의 성능이 나왔다. "
      ]
    },
    {
      "cell_type": "code",
      "metadata": {
        "colab": {
          "base_uri": "https://localhost:8080/"
        },
        "id": "XEtfaK7Q5NIc",
        "outputId": "4d425b50-f191-43c4-dfac-b83f0a51f160"
      },
      "source": [
        "# (BEST) penalty='none'\n",
        "from sklearn.linear_model import LogisticRegression\n",
        "from sklearn.model_selection import cross_validate\n",
        "\n",
        "lr = LogisticRegression(max_iter=10000, random_state=42, penalty='none')\n",
        "lr.fit(X_train, y_train.values.ravel())\n",
        "cv_results = cross_validate(lr, X_train, y_train.values.ravel(), cv=5)\n",
        "np.mean(cv_results['test_score'])"
      ],
      "execution_count": null,
      "outputs": [
        {
          "output_type": "execute_result",
          "data": {
            "text/plain": [
              "0.8084541723666211"
            ]
          },
          "metadata": {
            "tags": []
          },
          "execution_count": 55
        }
      ]
    },
    {
      "cell_type": "markdown",
      "metadata": {
        "id": "3IUlo699kQSF"
      },
      "source": [
        "## d. MLP"
      ]
    },
    {
      "cell_type": "markdown",
      "metadata": {
        "id": "vXqdmvwgr4s9"
      },
      "source": [
        "### MLP default model\n",
        "parameter를 조작하지 않은 default model을 생성하고 훈련한다. 5-fold cross validation을 통해 default model의 성능을 검증한다."
      ]
    },
    {
      "cell_type": "code",
      "metadata": {
        "id": "_ezxOlKTf49X",
        "colab": {
          "base_uri": "https://localhost:8080/"
        },
        "outputId": "97effc19-51a8-451e-ec1d-6b5ec7de7c47"
      },
      "source": [
        "# MLP\n",
        "# https://scikit-learn.org/stable/modules/generated/sklearn.neural_network.MLPClassifier.html\n",
        "from sklearn.neural_network import MLPClassifier\n",
        "\n",
        "mlp = MLPClassifier(hidden_layer_sizes=(100,), max_iter=10000, random_state=42)\n",
        "mlp.fit(X_train, y_train.values.ravel())\n"
      ],
      "execution_count": null,
      "outputs": [
        {
          "output_type": "execute_result",
          "data": {
            "text/plain": [
              "MLPClassifier(activation='relu', alpha=0.0001, batch_size='auto', beta_1=0.9,\n",
              "              beta_2=0.999, early_stopping=False, epsilon=1e-08,\n",
              "              hidden_layer_sizes=(100,), learning_rate='constant',\n",
              "              learning_rate_init=0.001, max_fun=15000, max_iter=10000,\n",
              "              momentum=0.9, n_iter_no_change=10, nesterovs_momentum=True,\n",
              "              power_t=0.5, random_state=42, shuffle=True, solver='adam',\n",
              "              tol=0.0001, validation_fraction=0.1, verbose=False,\n",
              "              warm_start=False)"
            ]
          },
          "metadata": {
            "tags": []
          },
          "execution_count": 82
        }
      ]
    },
    {
      "cell_type": "code",
      "metadata": {
        "colab": {
          "base_uri": "https://localhost:8080/"
        },
        "id": "0QzSl8co0BGJ",
        "outputId": "8d5a0108-ea8d-4984-880f-102cba992fe3"
      },
      "source": [
        "# 5-fold cross validation\n",
        "from sklearn.model_selection import cross_validate\n",
        "\n",
        "cv_results = cross_validate(mlp, X_train, y_train.values.ravel(), cv=5)\n",
        "np.mean(cv_results['test_score'])"
      ],
      "execution_count": null,
      "outputs": [
        {
          "output_type": "execute_result",
          "data": {
            "text/plain": [
              "0.7944459644322845"
            ]
          },
          "metadata": {
            "tags": []
          },
          "execution_count": 83
        }
      ]
    },
    {
      "cell_type": "markdown",
      "metadata": {
        "id": "52NQOc-20PJI"
      },
      "source": [
        "### MLP model trial and error\n",
        "trial and error 과정에서는 parameter 설정에 변화를 주어 모델을 훈련했다. MLP의 경우, activation, hidden_layer_size, solver 등의 parameter를 변경시켜 실험해 보았다. 여기에는 5-fold cross validation을 통해 성능을 검증하는 과정까지 포함되어 있다. "
      ]
    },
    {
      "cell_type": "markdown",
      "metadata": {
        "id": "UtEteRYo0PJJ"
      },
      "source": [
        "- activation\n",
        "> hidden layer에 대한 활성화 함수이다. 'identity'는 f(x) = x를 반환한다. 'logistic'은 f(x) = 1 / (1 + exp(-x))을 반환한다. 'tanh'은 f(x) = tanh(x)를 반환한다. 'relu'는  f(x) = max(0, x)를 반환한다. 본 실험에서는 default인 relu를 제외하고 각각의 경우 모두 실험해 보았다. \n",
        "\n"
      ]
    },
    {
      "cell_type": "code",
      "metadata": {
        "colab": {
          "base_uri": "https://localhost:8080/"
        },
        "id": "Vnj0HeLs0PJJ",
        "outputId": "5ea80c2f-5f8f-4732-aeda-e1d7e4c2679e"
      },
      "source": [
        "# activation='identity'\n",
        "from sklearn.neural_network import MLPClassifier\n",
        "from sklearn.model_selection import cross_validate\n",
        "\n",
        "mlp = MLPClassifier(hidden_layer_sizes=(100,), max_iter=10000, random_state=42, activation='identity')\n",
        "mlp.fit(X_train, y_train.values.ravel())\n",
        "cv_results = cross_validate(mlp, X_train, y_train.values.ravel(), cv=5)\n",
        "np.mean(cv_results['test_score'])"
      ],
      "execution_count": null,
      "outputs": [
        {
          "output_type": "execute_result",
          "data": {
            "text/plain": [
              "0.6448153214774281"
            ]
          },
          "metadata": {
            "tags": []
          },
          "execution_count": 84
        }
      ]
    },
    {
      "cell_type": "code",
      "metadata": {
        "colab": {
          "base_uri": "https://localhost:8080/"
        },
        "id": "4jNsBD8eFVOD",
        "outputId": "e90aaafd-7502-4d14-93f5-fe616a805225"
      },
      "source": [
        "# activation='logistic'\n",
        "from sklearn.neural_network import MLPClassifier\n",
        "from sklearn.model_selection import cross_validate\n",
        "\n",
        "mlp = MLPClassifier(hidden_layer_sizes=(100,), max_iter=10000, random_state=42, activation='logistic')\n",
        "mlp.fit(X_train, y_train.values.ravel())\n",
        "cv_results = cross_validate(mlp, X_train, y_train.values.ravel(), cv=5)\n",
        "np.mean(cv_results['test_score'])"
      ],
      "execution_count": null,
      "outputs": [
        {
          "output_type": "execute_result",
          "data": {
            "text/plain": [
              "0.8014774281805745"
            ]
          },
          "metadata": {
            "tags": []
          },
          "execution_count": 85
        }
      ]
    },
    {
      "cell_type": "code",
      "metadata": {
        "colab": {
          "base_uri": "https://localhost:8080/"
        },
        "id": "ns3XGWXrFVXt",
        "outputId": "30fcc495-b2e1-4a02-9b59-4dde27b88390"
      },
      "source": [
        "# activation='tanh'\n",
        "from sklearn.neural_network import MLPClassifier\n",
        "from sklearn.model_selection import cross_validate\n",
        "\n",
        "mlp = MLPClassifier(hidden_layer_sizes=(100,), max_iter=10000, random_state=42, activation='tanh')\n",
        "mlp.fit(X_train, y_train.values.ravel())\n",
        "cv_results = cross_validate(mlp, X_train, y_train.values.ravel(), cv=5)\n",
        "np.mean(cv_results['test_score'])"
      ],
      "execution_count": null,
      "outputs": [
        {
          "output_type": "execute_result",
          "data": {
            "text/plain": [
              "0.8013953488372092"
            ]
          },
          "metadata": {
            "tags": []
          },
          "execution_count": 86
        }
      ]
    },
    {
      "cell_type": "markdown",
      "metadata": {
        "id": "Pe_PZ9rE0PJJ"
      },
      "source": [
        "- hidden_layer_sizes\n",
        "\n",
        "> i번째 요소는 i번째 hidden layer에 있는 뉴런의 수를 나타낸다. 임의의 다양한 int 값을 대입해 보았다.\n",
        "\n"
      ]
    },
    {
      "cell_type": "code",
      "metadata": {
        "colab": {
          "base_uri": "https://localhost:8080/"
        },
        "id": "pU-gEvkJLT4j",
        "outputId": "d5080daa-2c7a-4f16-b582-616e2b64c9c2"
      },
      "source": [
        "# hidden_layer_sizes=(200,)\n",
        "from sklearn.neural_network import MLPClassifier\n",
        "from sklearn.model_selection import cross_validate\n",
        "\n",
        "mlp = MLPClassifier(hidden_layer_sizes=(200,), max_iter=10000, random_state=42)\n",
        "mlp.fit(X_train, y_train.values.ravel())\n",
        "cv_results = cross_validate(mlp, X_train, y_train.values.ravel(), cv=5)\n",
        "np.mean(cv_results['test_score'])"
      ],
      "execution_count": null,
      "outputs": [
        {
          "output_type": "execute_result",
          "data": {
            "text/plain": [
              "0.7921477428180574"
            ]
          },
          "metadata": {
            "tags": []
          },
          "execution_count": 87
        }
      ]
    },
    {
      "cell_type": "code",
      "metadata": {
        "colab": {
          "base_uri": "https://localhost:8080/"
        },
        "id": "xYRnboGWD1lG",
        "outputId": "652fb4c2-4572-49ee-f9ca-f7ef969a720a"
      },
      "source": [
        "# hidden_layer_sizes=(100,2)\n",
        "from sklearn.neural_network import MLPClassifier\n",
        "from sklearn.model_selection import cross_validate\n",
        "\n",
        "mlp = MLPClassifier(hidden_layer_sizes=(100,2), max_iter=10000, random_state=42)\n",
        "mlp.fit(X_train, y_train.values.ravel())\n",
        "cv_results = cross_validate(mlp, X_train, y_train.values.ravel(), cv=5)\n",
        "np.mean(cv_results['test_score'])"
      ],
      "execution_count": null,
      "outputs": [
        {
          "output_type": "execute_result",
          "data": {
            "text/plain": [
              "0.6827359781121751"
            ]
          },
          "metadata": {
            "tags": []
          },
          "execution_count": 88
        }
      ]
    },
    {
      "cell_type": "code",
      "metadata": {
        "colab": {
          "base_uri": "https://localhost:8080/"
        },
        "id": "wA7WMhgQHWCF",
        "outputId": "9afefb83-8c0e-45d2-eea8-5a0562f999bb"
      },
      "source": [
        "# hidden_layer_sizes=(30,)\n",
        "from sklearn.neural_network import MLPClassifier\n",
        "from sklearn.model_selection import cross_validate\n",
        "\n",
        "mlp = MLPClassifier(hidden_layer_sizes=(30,), max_iter=10000, random_state=42)\n",
        "mlp.fit(X_train, y_train.values.ravel())\n",
        "cv_results = cross_validate(mlp, X_train, y_train.values.ravel(), cv=5)\n",
        "np.mean(cv_results['test_score'])"
      ],
      "execution_count": null,
      "outputs": [
        {
          "output_type": "execute_result",
          "data": {
            "text/plain": [
              "0.7944459644322845"
            ]
          },
          "metadata": {
            "tags": []
          },
          "execution_count": 89
        }
      ]
    },
    {
      "cell_type": "markdown",
      "metadata": {
        "id": "gtCUe3QgEF77"
      },
      "source": [
        "- solver\n",
        "\n",
        "\n",
        "> weight 최적화를 위한 parameter이다. 'lbfgs'는 quasi-Newton 방법 계열의 최적화 도구이다 .'sgd'는 stochastic gradient descent을 일컫는다. 'adam'은 stochastic gradient-based optimizer를 가리킨다. 기본값 'adam'을 제외한 'lbfgs', 'sgd'에 대해 실험했다.\n",
        "\n"
      ]
    },
    {
      "cell_type": "code",
      "metadata": {
        "colab": {
          "base_uri": "https://localhost:8080/"
        },
        "id": "LfZyGF1YD29d",
        "outputId": "85ab8fc9-7cba-49bb-8d80-f7852a8e9a20"
      },
      "source": [
        "# solver='lbfgs'\n",
        "from sklearn.neural_network import MLPClassifier\n",
        "from sklearn.model_selection import cross_validate\n",
        "\n",
        "mlp = MLPClassifier(hidden_layer_sizes=(100,), max_iter=10000, random_state=42, solver='lbfgs')\n",
        "mlp.fit(X_train, y_train.values.ravel())\n",
        "cv_results = cross_validate(mlp, X_train, y_train.values.ravel(), cv=5)\n",
        "np.mean(cv_results['test_score'])"
      ],
      "execution_count": null,
      "outputs": [
        {
          "output_type": "execute_result",
          "data": {
            "text/plain": [
              "0.6121477428180575"
            ]
          },
          "metadata": {
            "tags": []
          },
          "execution_count": 90
        }
      ]
    },
    {
      "cell_type": "code",
      "metadata": {
        "colab": {
          "base_uri": "https://localhost:8080/"
        },
        "id": "HPUyHooII8SJ",
        "outputId": "ac65ffe0-fdbf-4ea0-d28c-0eac59a95177"
      },
      "source": [
        "# solver='sgd'\n",
        "from sklearn.neural_network import MLPClassifier\n",
        "from sklearn.model_selection import cross_validate\n",
        "\n",
        "mlp = MLPClassifier(hidden_layer_sizes=(100,), max_iter=10000, random_state=42, solver='sgd')\n",
        "mlp.fit(X_train, y_train.values.ravel())\n",
        "cv_results = cross_validate(mlp, X_train, y_train.values.ravel(), cv=5)\n",
        "np.mean(cv_results['test_score'])"
      ],
      "execution_count": null,
      "outputs": [
        {
          "output_type": "execute_result",
          "data": {
            "text/plain": [
              "0.7080711354309165"
            ]
          },
          "metadata": {
            "tags": []
          },
          "execution_count": 91
        }
      ]
    },
    {
      "cell_type": "markdown",
      "metadata": {
        "id": "U0sJVAn4LqHg"
      },
      "source": [
        "* mixture\n",
        "\n",
        "> 준수한 결과가 나온 activation='logistic', 'tanh' 값과 hidden_layer_sizes=(10,) 를 동시에 변경해 보았다. 그러나 단일 parameter를 변경할 때보다 좋은 결과가 나오지는 않았다.\n",
        "\n"
      ]
    },
    {
      "cell_type": "code",
      "metadata": {
        "colab": {
          "base_uri": "https://localhost:8080/"
        },
        "id": "NC_PP_ooMABa",
        "outputId": "c68c340e-7cef-4b3b-a16c-b47960912a92"
      },
      "source": [
        "# hidden_layer_sizes=(10,), activation='logistic'\n",
        "from sklearn.neural_network import MLPClassifier\n",
        "from sklearn.model_selection import cross_validate\n",
        "\n",
        "mlp = MLPClassifier(hidden_layer_sizes=(10,), max_iter=10000, random_state=42, activation='logistic')\n",
        "mlp.fit(X_train, y_train.values.ravel())\n",
        "cv_results = cross_validate(mlp, X_train, y_train.values.ravel(), cv=5)\n",
        "np.mean(cv_results['test_score'])"
      ],
      "execution_count": null,
      "outputs": [
        {
          "output_type": "execute_result",
          "data": {
            "text/plain": [
              "0.7944733242134063"
            ]
          },
          "metadata": {
            "tags": []
          },
          "execution_count": 92
        }
      ]
    },
    {
      "cell_type": "code",
      "metadata": {
        "colab": {
          "base_uri": "https://localhost:8080/"
        },
        "id": "ImBkRfJOMFqL",
        "outputId": "77bbcca1-2d37-477f-f5eb-d192c32450d8"
      },
      "source": [
        "# hidden_layer_sizes=(10,), activation='tanh'\n",
        "from sklearn.neural_network import MLPClassifier\n",
        "from sklearn.model_selection import cross_validate\n",
        "\n",
        "mlp = MLPClassifier(hidden_layer_sizes=(10,), max_iter=10000, random_state=42, activation='tanh')\n",
        "mlp.fit(X_train, y_train.values.ravel())\n",
        "cv_results = cross_validate(mlp, X_train, y_train.values.ravel(), cv=5)\n",
        "np.mean(cv_results['test_score'])"
      ],
      "execution_count": null,
      "outputs": [
        {
          "output_type": "execute_result",
          "data": {
            "text/plain": [
              "0.7897400820793432"
            ]
          },
          "metadata": {
            "tags": []
          },
          "execution_count": 93
        }
      ]
    },
    {
      "cell_type": "markdown",
      "metadata": {
        "id": "Z5WR6lPlDL6b"
      },
      "source": [
        "### MLP final model\n",
        "실험 결과, activation='logistic'으로 설정한 모델에서 최상의 성능이 나왔다. "
      ]
    },
    {
      "cell_type": "code",
      "metadata": {
        "colab": {
          "base_uri": "https://localhost:8080/"
        },
        "id": "YjFmbEhTM1YR",
        "outputId": "621284f3-0081-4058-81ae-1e5ed3eaab43"
      },
      "source": [
        "# activation='logistic'\n",
        "from sklearn.neural_network import MLPClassifier\n",
        "from sklearn.model_selection import cross_validate\n",
        "\n",
        "mlp = MLPClassifier(hidden_layer_sizes=(100,), max_iter=10000, random_state=42, activation='logistic')\n",
        "mlp.fit(X_train, y_train.values.ravel())\n",
        "cv_results = cross_validate(mlp, X_train, y_train.values.ravel(), cv=5)\n",
        "np.mean(cv_results['test_score'])"
      ],
      "execution_count": null,
      "outputs": [
        {
          "output_type": "execute_result",
          "data": {
            "text/plain": [
              "0.8014774281805745"
            ]
          },
          "metadata": {
            "tags": []
          },
          "execution_count": 94
        }
      ]
    },
    {
      "cell_type": "markdown",
      "metadata": {
        "id": "PGGeyaMUTUf9"
      },
      "source": [
        "# 5. 실험 결과 비교"
      ]
    },
    {
      "cell_type": "markdown",
      "metadata": {
        "id": "q60GpFKOTYPF"
      },
      "source": [
        "위 과정에서 산출한 Decision Tree, Logistic Regression, MLP모델 성능을 5-fold cross validation으로 평가한다. 최종적인 모델 평가이기 때문에 여기서는 5-fold cross validation에 test set를 사용해서 평가했다. test data set에 대해 평가해 본 결과 셋 모두 train set에 대해 평가한 것보다 성능이 다소 저하된 것을 확인할 수 있었다. 세 모델 중 activation='logistic'으로 설정한 MLP final model이 가장 좋은 성능을 보여주었다. "
      ]
    },
    {
      "cell_type": "markdown",
      "metadata": {
        "id": "o0oBdU0zNdmG"
      },
      "source": [
        "### Decision tree final model\n",
        "max_features=\"log2\", max_depth=5"
      ]
    },
    {
      "cell_type": "code",
      "metadata": {
        "colab": {
          "base_uri": "https://localhost:8080/"
        },
        "id": "2YJMmp88NdmO",
        "outputId": "7dae60e2-e693-4695-a4cd-d839d415a200"
      },
      "source": [
        "# (BEST) max_features=\"log2\", max_depth=5\n",
        "from sklearn.tree import DecisionTreeClassifier\n",
        "from sklearn.model_selection import cross_validate\n",
        "\n",
        "decTree = DecisionTreeClassifier(max_features=\"log2\", max_depth=5)\n",
        "decTree.fit(X_train, y_train.values.ravel())\n",
        "cv_results = cross_validate(decTree, X_test, y_test, cv=5)\n",
        "np.mean(cv_results['test_score'])"
      ],
      "execution_count": null,
      "outputs": [
        {
          "output_type": "execute_result",
          "data": {
            "text/plain": [
              "0.6354679802955665"
            ]
          },
          "metadata": {
            "tags": []
          },
          "execution_count": 142
        }
      ]
    },
    {
      "cell_type": "markdown",
      "metadata": {
        "id": "hjwES9w3NgK2"
      },
      "source": [
        "### Logistic Regression final model\n",
        "penalty='none' "
      ]
    },
    {
      "cell_type": "code",
      "metadata": {
        "colab": {
          "base_uri": "https://localhost:8080/"
        },
        "id": "ToIsjoeQNgK2",
        "outputId": "475efb4e-70cf-462d-cca0-bc07d5b4e2d1"
      },
      "source": [
        "# (BEST) penalty='none'\n",
        "from sklearn.linear_model import LogisticRegression\n",
        "from sklearn.model_selection import cross_validate\n",
        "\n",
        "lr = LogisticRegression(max_iter=10000, random_state=42, penalty='none')\n",
        "lr.fit(X_train, y_train.values.ravel())\n",
        "cv_results = cross_validate(lr, X_test, y_test.values.ravel(), cv=5)\n",
        "np.mean(cv_results['test_score'])"
      ],
      "execution_count": null,
      "outputs": [
        {
          "output_type": "execute_result",
          "data": {
            "text/plain": [
              "0.7211822660098521"
            ]
          },
          "metadata": {
            "tags": []
          },
          "execution_count": 98
        }
      ]
    },
    {
      "cell_type": "markdown",
      "metadata": {
        "id": "vSKWf32wNoUK"
      },
      "source": [
        "### MLP final model\n",
        "activation='logistic'"
      ]
    },
    {
      "cell_type": "code",
      "metadata": {
        "colab": {
          "base_uri": "https://localhost:8080/"
        },
        "id": "IwvovMGiNoUL",
        "outputId": "d9410beb-3443-4e10-de91-f4421ee700b3"
      },
      "source": [
        "# activation='logistic'\n",
        "from sklearn.neural_network import MLPClassifier\n",
        "from sklearn.model_selection import cross_validate\n",
        "\n",
        "mlp = MLPClassifier(hidden_layer_sizes=(100,), max_iter=10000, random_state=42, activation='logistic')\n",
        "mlp.fit(X_train, y_train.values.ravel())\n",
        "cv_results = cross_validate(mlp, X_test, y_test.values.ravel(), cv=5)\n",
        "np.mean(cv_results['test_score'])"
      ],
      "execution_count": null,
      "outputs": [
        {
          "output_type": "execute_result",
          "data": {
            "text/plain": [
              "0.7263546798029556"
            ]
          },
          "metadata": {
            "tags": []
          },
          "execution_count": 143
        }
      ]
    },
    {
      "cell_type": "markdown",
      "metadata": {
        "id": "i-Zw0N0UTg17"
      },
      "source": [
        "# 6. 결론"
      ]
    },
    {
      "cell_type": "markdown",
      "metadata": {
        "id": "pjSHVHCxTjsU"
      },
      "source": [
        "Titanic 데이터에서, 가장 좋은 성능을 보여준 model은 MLP이었다. 이 때 parameter는 activation='logistic'으로 설정되어야 한다. test data set에서 실험해 보았을 때 cross validation test score, test accuracy, test precision, test recall, test f1, test roc auc는 아래와 같다. 따라서 Titanic 데이터를 분석할 때, MLP 모델 activation='logistic'을 쓴다면 다른 모델에 비해 준수한 결과를 얻을 수 있을 것이라고 예상된다. "
      ]
    },
    {
      "cell_type": "code",
      "metadata": {
        "colab": {
          "base_uri": "https://localhost:8080/"
        },
        "id": "mPlmbBpZVHEs",
        "outputId": "643f92ba-910e-490c-b86b-8ac468716163"
      },
      "source": [
        "# activation='logistic'\n",
        "from sklearn.neural_network import MLPClassifier\n",
        "from sklearn.model_selection import cross_validate\n",
        "\n",
        "mlp = MLPClassifier(hidden_layer_sizes=(100,), max_iter=10000, random_state=42, activation='logistic')\n",
        "mlp.fit(X_train, y_train.values.ravel())\n",
        "cv_results = cross_validate(mlp, X_test, y_test.values.ravel(), cv=5)\n",
        "np.mean(cv_results['test_score'])"
      ],
      "execution_count": null,
      "outputs": [
        {
          "output_type": "execute_result",
          "data": {
            "text/plain": [
              "0.7263546798029556"
            ]
          },
          "metadata": {
            "tags": []
          },
          "execution_count": 115
        }
      ]
    },
    {
      "cell_type": "code",
      "metadata": {
        "id": "JQQetnAk6XPf",
        "colab": {
          "base_uri": "https://localhost:8080/"
        },
        "outputId": "c8b98677-e2f2-4111-ea40-049c937c6128"
      },
      "source": [
        "scoring = ['accuracy', 'precision', 'recall', 'f1', 'roc_auc']\n",
        "cv_results = cross_validate(lr, X_test, y_test.values.ravel(), scoring=scoring, cv=5)\n",
        "cv_results.keys()\n",
        "print(np.mean(cv_results['test_accuracy']))\n",
        "print(np.mean(cv_results['test_precision']))\n",
        "print(np.mean(cv_results['test_recall']))\n",
        "print(np.mean(cv_results['test_f1']))\n",
        "print(np.mean(cv_results['test_roc_auc']))"
      ],
      "execution_count": null,
      "outputs": [
        {
          "output_type": "stream",
          "text": [
            "0.7211822660098521\n",
            "0.6625\n",
            "0.6303030303030303\n",
            "0.6267988812611238\n",
            "0.7787433155080213\n"
          ],
          "name": "stdout"
        }
      ]
    }
  ]
}